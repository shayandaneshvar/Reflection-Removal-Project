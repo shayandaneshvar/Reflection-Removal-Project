import cv2 as cv
import numpy as np


def shuffle(arr, seed=11):
    np.random.seed(11)
    np.random.shuffle(arr)
    return arr


def rotate_image(image, angle):
    image_center = tuple(np.array(image.shape[1::-1]) / 2)
    rot_mat = cv.getRotationMatrix2D(image_center, angle, 1.0)
    result = cv.warpAffine(image, rot_mat, image.shape[1::-1],
                           flags=cv.INTER_LINEAR)
    return result


def random_flip(I):
    if np.random.random() >= 0.5:
        I = cv.flip(I, 1)
    if np.random.random() >= 0.7:
        I = cv.flip(I, 0)

    return I


def random_rotate(I):
    return rotate_image(I, np.round(np.random.random() * 45))


def random_rotate_and_flip(I):
    return random_rotate(random_flip(I))


def replace_image(I, mask, loc=(0, 0), w=0.1):
    mask *= w
    end = (np.minimum(I.shape[0], loc[0] + mask.shape[0]),
           np.minimum(I.shape[1], loc[1] + mask.shape[1]))
    I[loc[0]:end[0], loc[1]:end[1]] = I[loc[0]:end[0], loc[1]:end[1]] * (
            1 - w) + mask[:np.minimum(mask.shape[0], I.shape[0] - loc[0]),
                     :np.minimum(mask.shape[1], I.shape[1] - loc[1])]


def add_reflection(I, refs, ref_range=(0.5, 1.5), max_ref_count=6,
                   weight_range=(0.01, 0.4)):
    I = I.copy()
    start = (0, 0)
    end = (I.shape[0], I.shape[1])
    ref_indices = []
    for i in range(max_ref_count):
        ref_indices.append(
            np.floor(np.random.random() * len(refs)).astype("int"))
    at_least_one = False
    for ind in ref_indices:
        if at_least_one and np.random.random() > 0.7:
            continue
        at_least_one = True
        refl = refs[ind]
        scl = (ref_range[1] - ref_range[0]) * np.random.random() + ref_range[0]
        refl = resize(refl, scale=scl)
        refl = random_rotate_and_flip(refl)
        refl = blur(refl)
        randX = np.floor(
            (end[0] - start[0]) * np.random.random() + start[0]).astype("int")
        randY = np.floor(
            (end[1] - start[1]) * np.random.random() + start[1]).astype("int")
        w = (weight_range[1] - weight_range[0]) * np.random.random() + \
            weight_range[0]
        replace_image(I, refl, (randX, randY), w)
    return I


def generate_batch(I, refs, size=16):
    I1 = cv.flip(I.copy(), 1)  # other side of the road
    x = []
    y = []
    for i in range(size // 2):
        y.append(I)
        x.append(add_reflection(I, refs))
    for i in range(size // 2):
        y.append(I1)
        x.append(add_reflection(I1, refs))
    return x, y


def blur(img, k=5):
    return cv.GaussianBlur(img, (k, k), 0)


def resize(I, scale):
    return cv.resize(I, (
        np.round(I.shape[1] * scale).astype("int"),
        np.round(I.shape[0] * scale).astype("int")))


from tensorflow.keras.layers import Conv2DTranspose

class ReflectionRemovalEncoderDecoder():

    def __init__(self, input_shape, load=False, model_address="./model"):
        print("V1 initializing")
        self.input_shape = input_shape
        if load:
            self.model = load_model(model_address)
            return
        self.model: Model = self.build_model()

    @staticmethod
    def load(model_address="./model"):
        return load_model(model_address)

    def save_model(self, model_address="./model"):
        self.model.save(model_address)

    def evaluate(self, files, refs):
        files = files[672:-1]
        images = [cv.resize(cv.imread(file) / 255,
                            (self.input_shape[0], self.input_shape[1])) for file
                  in files]
        x = []
        y = []
        for image in images:
            tx, ty = generate_batch(image, refs, 4)
            x.append(tx)
            y.append(ty)
        x = np.array(x)
        y = np.array(y)
        return self.model.evaluate(x, y)

    def test(self, image):
        image = cv.resize(image, (self.input_shape[0], self.input_shape[1]))
        batch = np.expand_dims(image, axis=0)
        return self.model.predict(batch)[0]

    def train(self, all_image_files, reflection_files, save_address, epochs=5,
              batch_size=64):
        image_files = all_image_files[0:672]  # last 29 images for test and eval
        refs = [cv.imread(ref_file) / 255 for ref_file in reflection_files]
        for epoch in range(0, epochs // 5):
            j = 0
            # if epoch == 2 and j == 0:
            #     j = 200

            for i in range(0, len(image_files), 4):
                print(f"i is {i} at epoch {epoch}")
                I0 = cv.resize(cv.imread(image_files[i]),
                               (self.input_shape[0], self.input_shape[1])) / 255
                I1 = cv.resize(cv.imread(image_files[i + 1]),
                               (self.input_shape[0], self.input_shape[1])) / 255
                x1, y1 = generate_batch(I0, refs, batch_size // 4)
                x2, y2 = generate_batch(I1, refs, batch_size // 4)
                I2 = cv.resize(cv.imread(image_files[i + 2]),
                               (self.input_shape[0], self.input_shape[1])) / 255
                x3, y3 = generate_batch(I2, refs, batch_size // 4)
                I3 = cv.resize(cv.imread(image_files[i + 2]),
                               (self.input_shape[0], self.input_shape[1])) / 255
                x4, y4 = generate_batch(I3, refs, batch_size // 4)

                x = np.array(x1 + x2 + x3 + x4, "float32").reshape(
                    (-1,
                     self.input_shape[1],
                     self.input_shape[0],
                     self.input_shape[2]))
                y = np.array(y1 + y2 + y3 + y4, "float32").reshape(
                    (-1,
                     self.input_shape[1],
                     self.input_shape[0],
                     self.input_shape[2]))
                self.model.fit(x, y, epochs=20, batch_size=32)
                if i != 0 and i % 100 == 0:
                    self.save_model(save_address + f"/temp{epoch}-{i}")

            self.save_model(save_address + "/model" + str(epoch))
        self.save_model(save_address + "/model")
        # print(self.evaluate(all_image_files, refs))

from google.colab import drive
from glob import glob

drive.mount('/content/gdrive')

model = ReflectionRemovalEncoderDecoder((320, 240, 3), load=False,
                                            model_address="gdrive/My Drive/MyDataset/model")
model.save_model("gdrive/My Drive/MyDataset/raw_model")

root_path = 'gdrive/My Drive/MyDataset/CamVid/'
ref_path = 'gdrive/My Drive/MyDataset/Ref/'
files = sorted(glob(root_path + "*.png"))
refs = sorted(glob(ref_path + "*.png"))
shuffle(files)
print(len(files))
print(len(refs))

model.train(files, refs, 'gdrive/My Drive/MyDataset')
